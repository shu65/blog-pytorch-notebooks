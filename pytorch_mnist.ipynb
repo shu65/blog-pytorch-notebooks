{
  "nbformat": 4,
  "nbformat_minor": 0,
  "metadata": {
    "colab": {
      "name": "pytorch-mnist",
      "provenance": [],
      "collapsed_sections": [],
      "authorship_tag": "ABX9TyMhErdRvOYejcYSw1gGV4rg",
      "include_colab_link": true
    },
    "kernelspec": {
      "name": "python3",
      "display_name": "Python 3"
    },
    "language_info": {
      "name": "python"
    },
    "accelerator": "GPU"
  },
  "cells": [
    {
      "cell_type": "markdown",
      "metadata": {
        "id": "view-in-github",
        "colab_type": "text"
      },
      "source": [
        "<a href=\"https://colab.research.google.com/github/shu65/blog-pytorch-notebooks/blob/main/pytorch_mnist.ipynb\" target=\"_parent\"><img src=\"https://colab.research.google.com/assets/colab-badge.svg\" alt=\"Open In Colab\"/></a>"
      ]
    },
    {
      "cell_type": "code",
      "metadata": {
        "colab": {
          "base_uri": "https://localhost:8080/"
        },
        "id": "ojUO1v5nS908",
        "outputId": "2def5e69-e940-482a-9a72-2c9a27196316"
      },
      "source": [
        "!nvcc --version"
      ],
      "execution_count": 18,
      "outputs": [
        {
          "output_type": "stream",
          "text": [
            "nvcc: NVIDIA (R) Cuda compiler driver\n",
            "Copyright (c) 2005-2020 NVIDIA Corporation\n",
            "Built on Wed_Jul_22_19:09:09_PDT_2020\n",
            "Cuda compilation tools, release 11.0, V11.0.221\n",
            "Build cuda_11.0_bu.TC445_37.28845127_0\n"
          ],
          "name": "stdout"
        }
      ]
    },
    {
      "cell_type": "code",
      "metadata": {
        "colab": {
          "base_uri": "https://localhost:8080/"
        },
        "id": "Sl7-a-0tTEBA",
        "outputId": "095c3763-2f18-465b-c315-f23d19df9cb6"
      },
      "source": [
        "!pip install torch==1.8.1+cu111 torchvision==0.9.1+cu111 -f https://download.pytorch.org/whl/torch_stable.html"
      ],
      "execution_count": 19,
      "outputs": [
        {
          "output_type": "stream",
          "text": [
            "Looking in links: https://download.pytorch.org/whl/torch_stable.html\n",
            "Requirement already satisfied: torch==1.8.1+cu111 in /usr/local/lib/python3.7/dist-packages (1.8.1+cu111)\n",
            "Requirement already satisfied: torchvision==0.9.1+cu111 in /usr/local/lib/python3.7/dist-packages (0.9.1+cu111)\n",
            "Requirement already satisfied: numpy in /usr/local/lib/python3.7/dist-packages (from torch==1.8.1+cu111) (1.19.5)\n",
            "Requirement already satisfied: typing-extensions in /usr/local/lib/python3.7/dist-packages (from torch==1.8.1+cu111) (3.7.4.3)\n",
            "Requirement already satisfied: pillow>=4.1.1 in /usr/local/lib/python3.7/dist-packages (from torchvision==0.9.1+cu111) (7.1.2)\n"
          ],
          "name": "stdout"
        }
      ]
    },
    {
      "cell_type": "code",
      "metadata": {
        "id": "CQ_ifXSdS7ES"
      },
      "source": [
        "import torch\n",
        "import torch.nn as nn\n",
        "import torch.nn.functional as F\n",
        "import torch.optim as optim\n",
        "from torchvision import datasets, transforms\n",
        "from torch.optim.lr_scheduler import StepLR"
      ],
      "execution_count": 20,
      "outputs": []
    },
    {
      "cell_type": "code",
      "metadata": {
        "id": "rqM7zGYpSGAG"
      },
      "source": [
        "class Net(nn.Module):\n",
        "    def __init__(self):\n",
        "        super(Net, self).__init__()\n",
        "        self.conv1 = nn.Conv2d(1, 32, 3, 1)\n",
        "        self.conv2 = nn.Conv2d(32, 64, 3, 1)\n",
        "        self.dropout1 = nn.Dropout(0.25)\n",
        "        self.dropout2 = nn.Dropout(0.5)\n",
        "        self.fc1 = nn.Linear(9216, 128)\n",
        "        self.fc2 = nn.Linear(128, 10)\n",
        "\n",
        "    def forward(self, x):\n",
        "        x = self.conv1(x)\n",
        "        x = F.relu(x)\n",
        "        x = self.conv2(x)\n",
        "        x = F.relu(x)\n",
        "        x = F.max_pool2d(x, 2)\n",
        "        x = self.dropout1(x)\n",
        "        x = torch.flatten(x, 1)\n",
        "        x = self.fc1(x)\n",
        "        x = F.relu(x)\n",
        "        x = self.dropout2(x)\n",
        "        x = self.fc2(x)\n",
        "        output = F.log_softmax(x, dim=1)\n",
        "        return output"
      ],
      "execution_count": 21,
      "outputs": []
    },
    {
      "cell_type": "code",
      "metadata": {
        "id": "hCU48e2zTdn9"
      },
      "source": [
        "def train(model, device, train_loader, optimizer, epoch, log_interval):\n",
        "    model.train()\n",
        "    for batch_idx, (data, target) in enumerate(train_loader):\n",
        "        data, target = data.to(device), target.to(device)\n",
        "        optimizer.zero_grad()\n",
        "        output = model(data)\n",
        "        loss = F.nll_loss(output, target)\n",
        "        loss.backward()\n",
        "        optimizer.step()\n",
        "        if batch_idx % log_interval == 0:\n",
        "            print('Train Epoch: {} [{}/{} ({:.0f}%)]\\tLoss: {:.6f}'.format(\n",
        "                epoch, batch_idx * len(data), len(train_loader.dataset),\n",
        "                100. * batch_idx / len(train_loader), loss.item()))"
      ],
      "execution_count": 22,
      "outputs": []
    },
    {
      "cell_type": "code",
      "metadata": {
        "id": "eKeJg0MkThCx"
      },
      "source": [
        "def test(model, device, test_loader):\n",
        "    model.eval()\n",
        "    test_loss = 0\n",
        "    correct = 0\n",
        "    with torch.no_grad():\n",
        "        for data, target in test_loader:\n",
        "            data, target = data.to(device), target.to(device)\n",
        "            output = model(data)\n",
        "            test_loss += F.nll_loss(output, target, reduction='sum').item()  # sum up batch loss\n",
        "            pred = output.argmax(dim=1, keepdim=True)  # get the index of the max log-probability\n",
        "            correct += pred.eq(target.view_as(pred)).sum().item()\n",
        "\n",
        "    test_loss /= len(test_loader.dataset)\n",
        "\n",
        "    print('\\nTest set: Average loss: {:.4f}, Accuracy: {}/{} ({:.0f}%)\\n'.format(\n",
        "        test_loss, correct, len(test_loader.dataset),\n",
        "        100. * correct / len(test_loader.dataset)))"
      ],
      "execution_count": 23,
      "outputs": []
    },
    {
      "cell_type": "code",
      "metadata": {
        "id": "_Z5y4GW8Tshm"
      },
      "source": [
        "# training parameters \n",
        "batch_size = 64\n",
        "test_batch_size = 1000\n",
        "epochs = 2\n",
        "lr = 1.0\n",
        "gamma = 0.7\n",
        "seed = 1\n",
        "log_interval = 100"
      ],
      "execution_count": 24,
      "outputs": []
    },
    {
      "cell_type": "code",
      "metadata": {
        "colab": {
          "base_uri": "https://localhost:8080/"
        },
        "id": "5V5QdSgMTl1x",
        "outputId": "1834e5ac-f484-40b9-f4a3-44ed85551a4e"
      },
      "source": [
        "torch.manual_seed(seed)\n",
        "device = torch.device(\"cuda\")\n",
        "\n",
        "train_kwargs = {'batch_size': batch_size}\n",
        "test_kwargs = {'batch_size': test_batch_size}\n",
        "common_kwargs = {'num_workers': 1, 'pin_memory': True, 'shuffle': True}\n",
        "train_kwargs.update(common_kwargs)\n",
        "test_kwargs.update(common_kwargs)\n",
        "\n",
        "transform=transforms.Compose([\n",
        "                              transforms.ToTensor(),\n",
        "                              transforms.Normalize((0.1307,), (0.3081,))\n",
        "                              ])\n",
        "dataset1 = datasets.MNIST('./data', train=True, download=True,\n",
        "                          transform=transform)\n",
        "dataset2 = datasets.MNIST('./data', train=False,\n",
        "                          transform=transform)\n",
        "train_loader = torch.utils.data.DataLoader(dataset1,**train_kwargs)\n",
        "test_loader = torch.utils.data.DataLoader(dataset2, **test_kwargs)\n",
        "\n",
        "model = Net().to(device)\n",
        "optimizer = optim.Adadelta(model.parameters(), lr=lr)\n",
        "\n",
        "scheduler = StepLR(optimizer, step_size=1, gamma=gamma)\n",
        "for epoch in range(1, epochs + 1):\n",
        "  train(model, device, train_loader, optimizer, epoch, log_interval)\n",
        "  test(model, device, test_loader)\n",
        "  scheduler.step()"
      ],
      "execution_count": 25,
      "outputs": [
        {
          "output_type": "stream",
          "text": [
            "Train Epoch: 1 [0/60000 (0%)]\tLoss: 2.331472\n",
            "Train Epoch: 1 [6400/60000 (11%)]\tLoss: 0.399083\n",
            "Train Epoch: 1 [12800/60000 (21%)]\tLoss: 0.326026\n",
            "Train Epoch: 1 [19200/60000 (32%)]\tLoss: 0.137404\n",
            "Train Epoch: 1 [25600/60000 (43%)]\tLoss: 0.194266\n",
            "Train Epoch: 1 [32000/60000 (53%)]\tLoss: 0.060524\n",
            "Train Epoch: 1 [38400/60000 (64%)]\tLoss: 0.108608\n",
            "Train Epoch: 1 [44800/60000 (75%)]\tLoss: 0.200231\n",
            "Train Epoch: 1 [51200/60000 (85%)]\tLoss: 0.040291\n",
            "Train Epoch: 1 [57600/60000 (96%)]\tLoss: 0.063507\n",
            "\n",
            "Test set: Average loss: 0.0594, Accuracy: 9818/10000 (98%)\n",
            "\n",
            "Train Epoch: 2 [0/60000 (0%)]\tLoss: 0.083315\n",
            "Train Epoch: 2 [6400/60000 (11%)]\tLoss: 0.329067\n",
            "Train Epoch: 2 [12800/60000 (21%)]\tLoss: 0.067283\n",
            "Train Epoch: 2 [19200/60000 (32%)]\tLoss: 0.051089\n",
            "Train Epoch: 2 [25600/60000 (43%)]\tLoss: 0.087292\n",
            "Train Epoch: 2 [32000/60000 (53%)]\tLoss: 0.222237\n",
            "Train Epoch: 2 [38400/60000 (64%)]\tLoss: 0.097125\n",
            "Train Epoch: 2 [44800/60000 (75%)]\tLoss: 0.016038\n",
            "Train Epoch: 2 [51200/60000 (85%)]\tLoss: 0.163205\n",
            "Train Epoch: 2 [57600/60000 (96%)]\tLoss: 0.031845\n",
            "\n",
            "Test set: Average loss: 0.0443, Accuracy: 9860/10000 (99%)\n",
            "\n"
          ],
          "name": "stdout"
        }
      ]
    }
  ]
}